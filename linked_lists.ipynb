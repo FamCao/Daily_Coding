{
  "nbformat": 4,
  "nbformat_minor": 0,
  "metadata": {
    "colab": {
      "name": " linked-lists.ipynb",
      "provenance": [],
      "authorship_tag": "ABX9TyMHXanqta/qnh/3cm1C4y5R",
      "include_colab_link": true
    },
    "kernelspec": {
      "name": "python3",
      "display_name": "Python 3"
    },
    "language_info": {
      "name": "python"
    }
  },
  "cells": [
    {
      "cell_type": "markdown",
      "metadata": {
        "id": "view-in-github",
        "colab_type": "text"
      },
      "source": [
        "<a href=\"https://colab.research.google.com/github/X-18Vietnames/Daily_Coding/blob/main/linked_lists.ipynb\" target=\"_parent\"><img src=\"https://colab.research.google.com/assets/colab-badge.svg\" alt=\"Open In Colab\"/></a>"
      ]
    },
    {
      "cell_type": "markdown",
      "source": [
        "DC #38 [Easy] - 14.03.2022\n",
        "\n",
        "Câu hỏi phỏng vấn được hỏi bởi Microsoft.\n",
        "Số nguyên được biểu diễn bằng linked-list, trong đó mỗi node chứa giá trị của một chữ số của số nguyên đó, head node biểu diễn chữ số hàng đơn vị. Ví dụ: 1 -> 2 -> 3 -> 4 -> 5 biểu diễn 54321.\n",
        "Cho 2 linked-lists biểu diễn 2 số nguyên. Trả về linked-list biểu diễn tổng của 2 số nguyên đó.\n",
        "Ví dụ: cho 9 -> 8 và 5 -> 2, trả về 4 -> 1 -> 1; 89 + 25 = 114"
      ],
      "metadata": {
        "id": "O5k27mQmZJXg"
      }
    },
    {
      "cell_type": "code",
      "execution_count": 1,
      "metadata": {
        "id": "2dO6NnGWY4m9"
      },
      "outputs": [],
      "source": [
        "class Node:\n",
        "   def __init__(self, dataval=None):\n",
        "      self.dataval = dataval\n",
        "      self.nextval = None\n",
        "\n",
        "class SLinkedList:\n",
        "   def __init__(self):\n",
        "      self.headval = None\n",
        "\n",
        "   def Number(self):\n",
        "      printval = self.headval\n",
        "      dem=0\n",
        "      sum=0\n",
        "      while printval is not None:\n",
        "         sum+=printval.dataval*(10**dem)\n",
        "         printval = printval.nextval\n",
        "         dem+=1\n",
        "      return sum\n",
        "   def print(self):\n",
        "      printval = self.headval\n",
        "      while printval is not None:\n",
        "         print (printval.dataval)\n",
        "         printval = printval.nextval\n",
        "def Sum (LinkedList1,LinkedList2):\n",
        "  Sum_int=list1.Number()+list2.Number()\n",
        "  Sum_str=str(Sum_int)\n",
        "  LinkedList_Sum = SLinkedList()\n",
        "  LinkedList_Sum.headval = Node(int(Sum_str[-1]))\n",
        "  e2 = Node(int(Sum_str[-2]))\n",
        "  LinkedList_Sum.headval.nextval = e2\n",
        "  for i in reversed(Sum_str[0:-2]):\n",
        "    e3 = Node(int(i))\n",
        "    e2.nextval = e3\n",
        "    e2=e3\n",
        "  return LinkedList_Sum"
      ]
    },
    {
      "cell_type": "code",
      "source": [
        "list1 = SLinkedList()\n",
        "list1.headval = Node(9)\n",
        "e2 = Node(8)\n",
        "list1.headval.nextval = e2\n",
        "e3 = Node(8)\n",
        "e2.nextval=e3 \n",
        "\n",
        "list2 = SLinkedList()\n",
        "list2.headval = Node(5)\n",
        "e2 = Node(2)\n",
        "list2.headval.nextval = e2"
      ],
      "metadata": {
        "id": "hSvxXbpmZD2B"
      },
      "execution_count": 3,
      "outputs": []
    },
    {
      "cell_type": "code",
      "source": [
        "Sum(list1,list2).print()"
      ],
      "metadata": {
        "colab": {
          "base_uri": "https://localhost:8080/"
        },
        "id": "ynVQkm_wZGC7",
        "outputId": "5bb2d32b-2f23-4e29-a60a-d212da843f1f"
      },
      "execution_count": 4,
      "outputs": [
        {
          "output_type": "stream",
          "name": "stdout",
          "text": [
            "4\n",
            "1\n",
            "9\n"
          ]
        }
      ]
    }
  ]
}